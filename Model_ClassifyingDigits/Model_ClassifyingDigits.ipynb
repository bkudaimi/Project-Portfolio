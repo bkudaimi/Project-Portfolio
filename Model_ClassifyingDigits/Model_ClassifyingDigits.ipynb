{
 "cells": [
  {
   "cell_type": "code",
   "execution_count": 1,
   "metadata": {},
   "outputs": [],
   "source": [
    "'''\n",
    "Image Classifier to Identify Written Numbers\n",
    "This classifier identifies the names of written numbers as a type of machine-learning-driven OCR.\n",
    "Author: Bilal Kudaimi\n",
    "Date: 2021-05-22\n",
    "'''\n",
    "\n",
    "#Importing the necessary libraries\n",
    "import numpy as np\n",
    "from keras.datasets import mnist\n",
    "from keras.models import Sequential\n",
    "from keras.layers import Dense, Dropout, Flatten\n",
    "from keras.layers.convolutional import Conv2D, MaxPooling2D\n",
    "from keras.utils import np_utils\n",
    "from keras import backend as K\n",
    "\n",
    "#Set that the color channel value will be first\n",
    "K.set_image_data_format(\"channels_first\")"
   ]
  },
  {
   "cell_type": "code",
   "execution_count": 2,
   "metadata": {},
   "outputs": [],
   "source": [
    "#Setting the seed\n",
    "np.random.seed(0)\n",
    "\n",
    "#Setting the initial image information\n",
    "channels = 1\n",
    "height = 28\n",
    "width = 28"
   ]
  },
  {
   "cell_type": "code",
   "execution_count": 3,
   "metadata": {},
   "outputs": [],
   "source": [
    "#Loading the MNIST data\n",
    "(data_train, target_train), (data_test, target_test) = mnist.load_data()"
   ]
  },
  {
   "cell_type": "code",
   "execution_count": 4,
   "metadata": {},
   "outputs": [],
   "source": [
    "#Reshaping the training image data into features\n",
    "data_train = data_train.reshape(data_train.shape[0], channels, height, width)\n",
    "\n",
    "#Reshaping the testing image data into features\n",
    "data_test = data_test.reshape(data_test.shape[0], channels, height, width)"
   ]
  },
  {
   "cell_type": "code",
   "execution_count": 5,
   "metadata": {},
   "outputs": [],
   "source": [
    "#Rescaling the pixel intensity of each image to be between 0 and 1\n",
    "features_train = data_train / 255\n",
    "features_test = data_test / 255\n",
    "\n",
    "#One-hot encoding the target data\n",
    "target_train = np_utils.to_categorical(target_train)\n",
    "target_test = np_utils.to_categorical(target_test)\n",
    "number_of_classes = target_test.shape[1]"
   ]
  },
  {
   "cell_type": "code",
   "execution_count": 6,
   "metadata": {},
   "outputs": [],
   "source": [
    "#Defining the neural network used for image classification\n",
    "#It will have a convolutional layer with 64 filters, a 5x5 window, and a ReLU activation function\n",
    "network = Sequential()\n",
    "network.add(Conv2D(filters=64,\n",
    "kernel_size=(5, 5),\n",
    "input_shape=(channels, width, height),\n",
    "activation='relu'))"
   ]
  },
  {
   "cell_type": "code",
   "execution_count": 7,
   "metadata": {},
   "outputs": [],
   "source": [
    "#Adding the following layers to the neural network (in order): \n",
    "#Max pooling layer with a 2x2 window\n",
    "#Dropout layer\n",
    "#Input flattening layer\n",
    "#Dense layer of 128 units with a ReLU activation function\n",
    "#Dropout layer\n",
    "#Dense layer with a softmax activation function\n",
    "\n",
    "network.add(MaxPooling2D(pool_size = (2, 2)))\n",
    "network.add(Dropout(0.5))\n",
    "network.add(Flatten())\n",
    "network.add(Dense(128, activation = \"relu\"))\n",
    "network.add(Dropout(0.5))\n",
    "network.add(Dense(number_of_classes, activation = \"softmax\"))\n",
    "\n",
    "#Compiling the neural network with accuracy as the scoring metric\n",
    "network.compile(loss = \"categorical_crossentropy\", \n",
    "                optimizer = \"rmsprop\", \n",
    "                metrics = [\"accuracy\"]) "
   ]
  },
  {
   "cell_type": "code",
   "execution_count": 8,
   "metadata": {},
   "outputs": [
    {
     "data": {
      "text/plain": [
       "<tensorflow.python.keras.callbacks.History at 0x298dadac6a0>"
      ]
     },
     "execution_count": 8,
     "metadata": {},
     "output_type": "execute_result"
    }
   ],
   "source": [
    "#Training the neural network with 2 epochs and 1000 observations per batch\n",
    "network.fit(features_train, \n",
    "            target_train, \n",
    "            epochs = 2, \n",
    "            verbose = 0, \n",
    "            batch_size = 1000, \n",
    "            validation_data = (features_test, target_test)) "
   ]
  },
  {
   "cell_type": "code",
   "execution_count": 9,
   "metadata": {},
   "outputs": [
    {
     "name": "stdout",
     "output_type": "stream",
     "text": [
      "Test accuracy: 0.9713000059127808\n"
     ]
    }
   ],
   "source": [
    "#Generating and printing the accuracy of the neural network\n",
    "test_evaluation = network.evaluate(features_test, target_test, verbose = 0)\n",
    "print('Test accuracy:', test_evaluation[1])"
   ]
  }
 ],
 "metadata": {
  "kernelspec": {
   "display_name": "Python 3",
   "language": "python",
   "name": "python3"
  },
  "language_info": {
   "codemirror_mode": {
    "name": "ipython",
    "version": 3
   },
   "file_extension": ".py",
   "mimetype": "text/x-python",
   "name": "python",
   "nbconvert_exporter": "python",
   "pygments_lexer": "ipython3",
   "version": "3.8.3"
  }
 },
 "nbformat": 4,
 "nbformat_minor": 4
}
