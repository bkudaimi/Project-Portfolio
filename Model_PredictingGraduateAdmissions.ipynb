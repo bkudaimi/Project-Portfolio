{
 "cells": [
  {
   "cell_type": "code",
   "execution_count": 1,
   "metadata": {},
   "outputs": [],
   "source": [
    "'''\n",
    "Neural Network Model for Predicting Graduate School Admissions\n",
    "This model predicts the probability of an international student gaining admission to an American graduate school \n",
    "The model can be adapted for domestic students as well.\n",
    "Author: Bilal Kudaimi\n",
    "Date: 2022-05-21\n",
    "'''\n",
    "\n",
    "#Importing the necessary libraries\n",
    "import matplotlib.pyplot as plt\n",
    "import numpy as np\n",
    "import pandas as pd\n",
    "import seaborn as sns\n",
    "from sklearn.metrics import r2_score\n",
    "from sklearn.model_selection import train_test_split\n",
    "from sklearn.preprocessing import MinMaxScaler\n",
    "import tensorflow\n",
    "from tensorflow import keras\n",
    "from keras import Sequential\n",
    "from keras.layers import Dense\n",
    "import warnings\n",
    "warnings.filterwarnings('ignore')"
   ]
  },
  {
   "cell_type": "code",
   "execution_count": 2,
   "metadata": {
    "scrolled": true
   },
   "outputs": [
    {
     "data": {
      "text/html": [
       "<div>\n",
       "<style scoped>\n",
       "    .dataframe tbody tr th:only-of-type {\n",
       "        vertical-align: middle;\n",
       "    }\n",
       "\n",
       "    .dataframe tbody tr th {\n",
       "        vertical-align: top;\n",
       "    }\n",
       "\n",
       "    .dataframe thead th {\n",
       "        text-align: right;\n",
       "    }\n",
       "</style>\n",
       "<table border=\"1\" class=\"dataframe\">\n",
       "  <thead>\n",
       "    <tr style=\"text-align: right;\">\n",
       "      <th></th>\n",
       "      <th>Serial No.</th>\n",
       "      <th>GRE Score</th>\n",
       "      <th>TOEFL Score</th>\n",
       "      <th>University Rating</th>\n",
       "      <th>SOP</th>\n",
       "      <th>LOR</th>\n",
       "      <th>CGPA</th>\n",
       "      <th>Research</th>\n",
       "      <th>Chance of Admit</th>\n",
       "    </tr>\n",
       "  </thead>\n",
       "  <tbody>\n",
       "    <tr>\n",
       "      <th>0</th>\n",
       "      <td>1</td>\n",
       "      <td>337</td>\n",
       "      <td>118</td>\n",
       "      <td>4</td>\n",
       "      <td>4.5</td>\n",
       "      <td>4.5</td>\n",
       "      <td>9.65</td>\n",
       "      <td>1</td>\n",
       "      <td>0.92</td>\n",
       "    </tr>\n",
       "    <tr>\n",
       "      <th>1</th>\n",
       "      <td>2</td>\n",
       "      <td>324</td>\n",
       "      <td>107</td>\n",
       "      <td>4</td>\n",
       "      <td>4.0</td>\n",
       "      <td>4.5</td>\n",
       "      <td>8.87</td>\n",
       "      <td>1</td>\n",
       "      <td>0.76</td>\n",
       "    </tr>\n",
       "    <tr>\n",
       "      <th>2</th>\n",
       "      <td>3</td>\n",
       "      <td>316</td>\n",
       "      <td>104</td>\n",
       "      <td>3</td>\n",
       "      <td>3.0</td>\n",
       "      <td>3.5</td>\n",
       "      <td>8.00</td>\n",
       "      <td>1</td>\n",
       "      <td>0.72</td>\n",
       "    </tr>\n",
       "    <tr>\n",
       "      <th>3</th>\n",
       "      <td>4</td>\n",
       "      <td>322</td>\n",
       "      <td>110</td>\n",
       "      <td>3</td>\n",
       "      <td>3.5</td>\n",
       "      <td>2.5</td>\n",
       "      <td>8.67</td>\n",
       "      <td>1</td>\n",
       "      <td>0.80</td>\n",
       "    </tr>\n",
       "    <tr>\n",
       "      <th>4</th>\n",
       "      <td>5</td>\n",
       "      <td>314</td>\n",
       "      <td>103</td>\n",
       "      <td>2</td>\n",
       "      <td>2.0</td>\n",
       "      <td>3.0</td>\n",
       "      <td>8.21</td>\n",
       "      <td>0</td>\n",
       "      <td>0.65</td>\n",
       "    </tr>\n",
       "  </tbody>\n",
       "</table>\n",
       "</div>"
      ],
      "text/plain": [
       "   Serial No.  GRE Score  TOEFL Score  University Rating  SOP  LOR   CGPA  \\\n",
       "0           1        337          118                  4  4.5   4.5  9.65   \n",
       "1           2        324          107                  4  4.0   4.5  8.87   \n",
       "2           3        316          104                  3  3.0   3.5  8.00   \n",
       "3           4        322          110                  3  3.5   2.5  8.67   \n",
       "4           5        314          103                  2  2.0   3.0  8.21   \n",
       "\n",
       "   Research  Chance of Admit   \n",
       "0         1              0.92  \n",
       "1         1              0.76  \n",
       "2         1              0.72  \n",
       "3         1              0.80  \n",
       "4         0              0.65  "
      ]
     },
     "execution_count": 2,
     "metadata": {},
     "output_type": "execute_result"
    }
   ],
   "source": [
    "#Importing the data\n",
    "admit_df = pd.read_csv('Admission_Predict.csv')\n",
    "admit_df.head()"
   ]
  },
  {
   "cell_type": "code",
   "execution_count": 3,
   "metadata": {},
   "outputs": [
    {
     "data": {
      "text/plain": [
       "(400, 9)"
      ]
     },
     "execution_count": 3,
     "metadata": {},
     "output_type": "execute_result"
    }
   ],
   "source": [
    "#Viewing the shape of the dataset\n",
    "admit_df.shape"
   ]
  },
  {
   "cell_type": "code",
   "execution_count": 4,
   "metadata": {
    "scrolled": false
   },
   "outputs": [
    {
     "data": {
      "text/plain": [
       "Serial No.           0\n",
       "GRE Score            0\n",
       "TOEFL Score          0\n",
       "University Rating    0\n",
       "SOP                  0\n",
       "LOR                  0\n",
       "CGPA                 0\n",
       "Research             0\n",
       "Chance of Admit      0\n",
       "dtype: int64"
      ]
     },
     "execution_count": 4,
     "metadata": {},
     "output_type": "execute_result"
    }
   ],
   "source": [
    "#Checking the dataset for NA values\n",
    "admit_df.isnull().sum()"
   ]
  },
  {
   "cell_type": "code",
   "execution_count": 5,
   "metadata": {
    "scrolled": true
   },
   "outputs": [
    {
     "name": "stdout",
     "output_type": "stream",
     "text": [
      "<class 'pandas.core.frame.DataFrame'>\n",
      "RangeIndex: 400 entries, 0 to 399\n",
      "Data columns (total 9 columns):\n",
      " #   Column             Non-Null Count  Dtype  \n",
      "---  ------             --------------  -----  \n",
      " 0   Serial No.         400 non-null    int64  \n",
      " 1   GRE Score          400 non-null    int64  \n",
      " 2   TOEFL Score        400 non-null    int64  \n",
      " 3   University Rating  400 non-null    int64  \n",
      " 4   SOP                400 non-null    float64\n",
      " 5   LOR                400 non-null    float64\n",
      " 6   CGPA               400 non-null    float64\n",
      " 7   Research           400 non-null    int64  \n",
      " 8   Chance of Admit    400 non-null    float64\n",
      "dtypes: float64(4), int64(5)\n",
      "memory usage: 28.2 KB\n"
     ]
    }
   ],
   "source": [
    "#Making sure the columns are numerical\n",
    "admit_df.info()"
   ]
  },
  {
   "cell_type": "code",
   "execution_count": 6,
   "metadata": {},
   "outputs": [
    {
     "data": {
      "text/html": [
       "<div>\n",
       "<style scoped>\n",
       "    .dataframe tbody tr th:only-of-type {\n",
       "        vertical-align: middle;\n",
       "    }\n",
       "\n",
       "    .dataframe tbody tr th {\n",
       "        vertical-align: top;\n",
       "    }\n",
       "\n",
       "    .dataframe thead th {\n",
       "        text-align: right;\n",
       "    }\n",
       "</style>\n",
       "<table border=\"1\" class=\"dataframe\">\n",
       "  <thead>\n",
       "    <tr style=\"text-align: right;\">\n",
       "      <th></th>\n",
       "      <th>Serial No.</th>\n",
       "      <th>GRE Score</th>\n",
       "      <th>TOEFL Score</th>\n",
       "      <th>University Rating</th>\n",
       "      <th>SOP</th>\n",
       "      <th>LOR</th>\n",
       "      <th>CGPA</th>\n",
       "      <th>Research</th>\n",
       "      <th>Chance of Admit</th>\n",
       "    </tr>\n",
       "  </thead>\n",
       "  <tbody>\n",
       "    <tr>\n",
       "      <th>count</th>\n",
       "      <td>400.000000</td>\n",
       "      <td>400.000000</td>\n",
       "      <td>400.000000</td>\n",
       "      <td>400.000000</td>\n",
       "      <td>400.000000</td>\n",
       "      <td>400.000000</td>\n",
       "      <td>400.000000</td>\n",
       "      <td>400.000000</td>\n",
       "      <td>400.000000</td>\n",
       "    </tr>\n",
       "    <tr>\n",
       "      <th>mean</th>\n",
       "      <td>200.500000</td>\n",
       "      <td>316.807500</td>\n",
       "      <td>107.410000</td>\n",
       "      <td>3.087500</td>\n",
       "      <td>3.400000</td>\n",
       "      <td>3.452500</td>\n",
       "      <td>8.598925</td>\n",
       "      <td>0.547500</td>\n",
       "      <td>0.724350</td>\n",
       "    </tr>\n",
       "    <tr>\n",
       "      <th>std</th>\n",
       "      <td>115.614301</td>\n",
       "      <td>11.473646</td>\n",
       "      <td>6.069514</td>\n",
       "      <td>1.143728</td>\n",
       "      <td>1.006869</td>\n",
       "      <td>0.898478</td>\n",
       "      <td>0.596317</td>\n",
       "      <td>0.498362</td>\n",
       "      <td>0.142609</td>\n",
       "    </tr>\n",
       "    <tr>\n",
       "      <th>min</th>\n",
       "      <td>1.000000</td>\n",
       "      <td>290.000000</td>\n",
       "      <td>92.000000</td>\n",
       "      <td>1.000000</td>\n",
       "      <td>1.000000</td>\n",
       "      <td>1.000000</td>\n",
       "      <td>6.800000</td>\n",
       "      <td>0.000000</td>\n",
       "      <td>0.340000</td>\n",
       "    </tr>\n",
       "    <tr>\n",
       "      <th>25%</th>\n",
       "      <td>100.750000</td>\n",
       "      <td>308.000000</td>\n",
       "      <td>103.000000</td>\n",
       "      <td>2.000000</td>\n",
       "      <td>2.500000</td>\n",
       "      <td>3.000000</td>\n",
       "      <td>8.170000</td>\n",
       "      <td>0.000000</td>\n",
       "      <td>0.640000</td>\n",
       "    </tr>\n",
       "    <tr>\n",
       "      <th>50%</th>\n",
       "      <td>200.500000</td>\n",
       "      <td>317.000000</td>\n",
       "      <td>107.000000</td>\n",
       "      <td>3.000000</td>\n",
       "      <td>3.500000</td>\n",
       "      <td>3.500000</td>\n",
       "      <td>8.610000</td>\n",
       "      <td>1.000000</td>\n",
       "      <td>0.730000</td>\n",
       "    </tr>\n",
       "    <tr>\n",
       "      <th>75%</th>\n",
       "      <td>300.250000</td>\n",
       "      <td>325.000000</td>\n",
       "      <td>112.000000</td>\n",
       "      <td>4.000000</td>\n",
       "      <td>4.000000</td>\n",
       "      <td>4.000000</td>\n",
       "      <td>9.062500</td>\n",
       "      <td>1.000000</td>\n",
       "      <td>0.830000</td>\n",
       "    </tr>\n",
       "    <tr>\n",
       "      <th>max</th>\n",
       "      <td>400.000000</td>\n",
       "      <td>340.000000</td>\n",
       "      <td>120.000000</td>\n",
       "      <td>5.000000</td>\n",
       "      <td>5.000000</td>\n",
       "      <td>5.000000</td>\n",
       "      <td>9.920000</td>\n",
       "      <td>1.000000</td>\n",
       "      <td>0.970000</td>\n",
       "    </tr>\n",
       "  </tbody>\n",
       "</table>\n",
       "</div>"
      ],
      "text/plain": [
       "       Serial No.   GRE Score  TOEFL Score  University Rating         SOP  \\\n",
       "count  400.000000  400.000000   400.000000         400.000000  400.000000   \n",
       "mean   200.500000  316.807500   107.410000           3.087500    3.400000   \n",
       "std    115.614301   11.473646     6.069514           1.143728    1.006869   \n",
       "min      1.000000  290.000000    92.000000           1.000000    1.000000   \n",
       "25%    100.750000  308.000000   103.000000           2.000000    2.500000   \n",
       "50%    200.500000  317.000000   107.000000           3.000000    3.500000   \n",
       "75%    300.250000  325.000000   112.000000           4.000000    4.000000   \n",
       "max    400.000000  340.000000   120.000000           5.000000    5.000000   \n",
       "\n",
       "             LOR         CGPA    Research  Chance of Admit   \n",
       "count  400.000000  400.000000  400.000000        400.000000  \n",
       "mean     3.452500    8.598925    0.547500          0.724350  \n",
       "std      0.898478    0.596317    0.498362          0.142609  \n",
       "min      1.000000    6.800000    0.000000          0.340000  \n",
       "25%      3.000000    8.170000    0.000000          0.640000  \n",
       "50%      3.500000    8.610000    1.000000          0.730000  \n",
       "75%      4.000000    9.062500    1.000000          0.830000  \n",
       "max      5.000000    9.920000    1.000000          0.970000  "
      ]
     },
     "execution_count": 6,
     "metadata": {},
     "output_type": "execute_result"
    }
   ],
   "source": [
    "#Describing the data frame\n",
    "admit_df.describe()"
   ]
  },
  {
   "cell_type": "code",
   "execution_count": 7,
   "metadata": {},
   "outputs": [],
   "source": [
    "#The standard for GPA is out of 4, so the GPA column will be changed to a scale of 4.\n",
    "admit_df['CGPA'] = (admit_df['CGPA'] / 10) * 4"
   ]
  },
  {
   "cell_type": "code",
   "execution_count": 8,
   "metadata": {},
   "outputs": [
    {
     "data": {
      "text/html": [
       "<div>\n",
       "<style scoped>\n",
       "    .dataframe tbody tr th:only-of-type {\n",
       "        vertical-align: middle;\n",
       "    }\n",
       "\n",
       "    .dataframe tbody tr th {\n",
       "        vertical-align: top;\n",
       "    }\n",
       "\n",
       "    .dataframe thead th {\n",
       "        text-align: right;\n",
       "    }\n",
       "</style>\n",
       "<table border=\"1\" class=\"dataframe\">\n",
       "  <thead>\n",
       "    <tr style=\"text-align: right;\">\n",
       "      <th></th>\n",
       "      <th>Serial No.</th>\n",
       "      <th>GRE Score</th>\n",
       "      <th>TOEFL Score</th>\n",
       "      <th>University Rating</th>\n",
       "      <th>SOP</th>\n",
       "      <th>LOR</th>\n",
       "      <th>CGPA</th>\n",
       "      <th>Research</th>\n",
       "      <th>Chance of Admit</th>\n",
       "    </tr>\n",
       "  </thead>\n",
       "  <tbody>\n",
       "    <tr>\n",
       "      <th>0</th>\n",
       "      <td>1</td>\n",
       "      <td>337</td>\n",
       "      <td>118</td>\n",
       "      <td>4</td>\n",
       "      <td>4.5</td>\n",
       "      <td>4.5</td>\n",
       "      <td>3.860</td>\n",
       "      <td>1</td>\n",
       "      <td>0.92</td>\n",
       "    </tr>\n",
       "    <tr>\n",
       "      <th>1</th>\n",
       "      <td>2</td>\n",
       "      <td>324</td>\n",
       "      <td>107</td>\n",
       "      <td>4</td>\n",
       "      <td>4.0</td>\n",
       "      <td>4.5</td>\n",
       "      <td>3.548</td>\n",
       "      <td>1</td>\n",
       "      <td>0.76</td>\n",
       "    </tr>\n",
       "    <tr>\n",
       "      <th>2</th>\n",
       "      <td>3</td>\n",
       "      <td>316</td>\n",
       "      <td>104</td>\n",
       "      <td>3</td>\n",
       "      <td>3.0</td>\n",
       "      <td>3.5</td>\n",
       "      <td>3.200</td>\n",
       "      <td>1</td>\n",
       "      <td>0.72</td>\n",
       "    </tr>\n",
       "    <tr>\n",
       "      <th>3</th>\n",
       "      <td>4</td>\n",
       "      <td>322</td>\n",
       "      <td>110</td>\n",
       "      <td>3</td>\n",
       "      <td>3.5</td>\n",
       "      <td>2.5</td>\n",
       "      <td>3.468</td>\n",
       "      <td>1</td>\n",
       "      <td>0.80</td>\n",
       "    </tr>\n",
       "    <tr>\n",
       "      <th>4</th>\n",
       "      <td>5</td>\n",
       "      <td>314</td>\n",
       "      <td>103</td>\n",
       "      <td>2</td>\n",
       "      <td>2.0</td>\n",
       "      <td>3.0</td>\n",
       "      <td>3.284</td>\n",
       "      <td>0</td>\n",
       "      <td>0.65</td>\n",
       "    </tr>\n",
       "    <tr>\n",
       "      <th>...</th>\n",
       "      <td>...</td>\n",
       "      <td>...</td>\n",
       "      <td>...</td>\n",
       "      <td>...</td>\n",
       "      <td>...</td>\n",
       "      <td>...</td>\n",
       "      <td>...</td>\n",
       "      <td>...</td>\n",
       "      <td>...</td>\n",
       "    </tr>\n",
       "    <tr>\n",
       "      <th>395</th>\n",
       "      <td>396</td>\n",
       "      <td>324</td>\n",
       "      <td>110</td>\n",
       "      <td>3</td>\n",
       "      <td>3.5</td>\n",
       "      <td>3.5</td>\n",
       "      <td>3.616</td>\n",
       "      <td>1</td>\n",
       "      <td>0.82</td>\n",
       "    </tr>\n",
       "    <tr>\n",
       "      <th>396</th>\n",
       "      <td>397</td>\n",
       "      <td>325</td>\n",
       "      <td>107</td>\n",
       "      <td>3</td>\n",
       "      <td>3.0</td>\n",
       "      <td>3.5</td>\n",
       "      <td>3.644</td>\n",
       "      <td>1</td>\n",
       "      <td>0.84</td>\n",
       "    </tr>\n",
       "    <tr>\n",
       "      <th>397</th>\n",
       "      <td>398</td>\n",
       "      <td>330</td>\n",
       "      <td>116</td>\n",
       "      <td>4</td>\n",
       "      <td>5.0</td>\n",
       "      <td>4.5</td>\n",
       "      <td>3.780</td>\n",
       "      <td>1</td>\n",
       "      <td>0.91</td>\n",
       "    </tr>\n",
       "    <tr>\n",
       "      <th>398</th>\n",
       "      <td>399</td>\n",
       "      <td>312</td>\n",
       "      <td>103</td>\n",
       "      <td>3</td>\n",
       "      <td>3.5</td>\n",
       "      <td>4.0</td>\n",
       "      <td>3.512</td>\n",
       "      <td>0</td>\n",
       "      <td>0.67</td>\n",
       "    </tr>\n",
       "    <tr>\n",
       "      <th>399</th>\n",
       "      <td>400</td>\n",
       "      <td>333</td>\n",
       "      <td>117</td>\n",
       "      <td>4</td>\n",
       "      <td>5.0</td>\n",
       "      <td>4.0</td>\n",
       "      <td>3.864</td>\n",
       "      <td>1</td>\n",
       "      <td>0.95</td>\n",
       "    </tr>\n",
       "  </tbody>\n",
       "</table>\n",
       "<p>400 rows × 9 columns</p>\n",
       "</div>"
      ],
      "text/plain": [
       "     Serial No.  GRE Score  TOEFL Score  University Rating  SOP  LOR    CGPA  \\\n",
       "0             1        337          118                  4  4.5   4.5  3.860   \n",
       "1             2        324          107                  4  4.0   4.5  3.548   \n",
       "2             3        316          104                  3  3.0   3.5  3.200   \n",
       "3             4        322          110                  3  3.5   2.5  3.468   \n",
       "4             5        314          103                  2  2.0   3.0  3.284   \n",
       "..          ...        ...          ...                ...  ...   ...    ...   \n",
       "395         396        324          110                  3  3.5   3.5  3.616   \n",
       "396         397        325          107                  3  3.0   3.5  3.644   \n",
       "397         398        330          116                  4  5.0   4.5  3.780   \n",
       "398         399        312          103                  3  3.5   4.0  3.512   \n",
       "399         400        333          117                  4  5.0   4.0  3.864   \n",
       "\n",
       "     Research  Chance of Admit   \n",
       "0           1              0.92  \n",
       "1           1              0.76  \n",
       "2           1              0.72  \n",
       "3           1              0.80  \n",
       "4           0              0.65  \n",
       "..        ...               ...  \n",
       "395         1              0.82  \n",
       "396         1              0.84  \n",
       "397         1              0.91  \n",
       "398         0              0.67  \n",
       "399         1              0.95  \n",
       "\n",
       "[400 rows x 9 columns]"
      ]
     },
     "execution_count": 8,
     "metadata": {},
     "output_type": "execute_result"
    }
   ],
   "source": [
    "#Viewing the data frame now\n",
    "admit_df"
   ]
  },
  {
   "cell_type": "code",
   "execution_count": 9,
   "metadata": {
    "scrolled": true
   },
   "outputs": [
    {
     "data": {
      "image/png": "[encoded data removed]",
      "text/plain": [
       "<Figure size 432x288 with 1 Axes>"
      ]
     },
     "metadata": {
      "needs_background": "light"
     },
     "output_type": "display_data"
    },
    {
     "data": {
      "image/png": "[encoded data removed]",
      "text/plain": [
       "<Figure size 432x288 with 1 Axes>"
      ]
     },
     "metadata": {
      "needs_background": "light"
     },
     "output_type": "display_data"
    },
    {
     "data": {
      "image/png": "[encoded data removed]",
      "text/plain": [
       "<Figure size 432x288 with 1 Axes>"
      ]
     },
     "metadata": {
      "needs_background": "light"
     },
     "output_type": "display_data"
    },
    {
     "data": {
      "image/png": "[encoded data removed]",
      "text/plain": [
       "<Figure size 432x288 with 1 Axes>"
      ]
     },
     "metadata": {
      "needs_background": "light"
     },
     "output_type": "display_data"
    },
    {
     "data": {
      "image/png": "[encoded data removed]",
      "text/plain": [
       "<Figure size 432x288 with 1 Axes>"
      ]
     },
     "metadata": {
      "needs_background": "light"
     },
     "output_type": "display_data"
    },
    {
     "data": {
      "image/png": "[encoded data removed]",
      "text/plain": [
       "<Figure size 432x288 with 1 Axes>"
      ]
     },
     "metadata": {
      "needs_background": "light"
     },
     "output_type": "display_data"
    },
    {
     "data": {
      "image/png": "[encoded data removed]",
      "text/plain": [
       "<Figure size 432x288 with 1 Axes>"
      ]
     },
     "metadata": {
      "needs_background": "light"
     },
     "output_type": "display_data"
    },
    {
     "data": {
      "image/png": "[encoded data removed]",
      "text/plain": [
       "<Figure size 432x288 with 1 Axes>"
      ]
     },
     "metadata": {
      "needs_background": "light"
     },
     "output_type": "display_data"
    }
   ],
   "source": [
    "#Plotting histograms of the data\n",
    "for i in admit_df.columns[1:]:\n",
    "    plt.hist(admit_df[i][1:])\n",
    "    plt.title(i)\n",
    "    plt.show()"
   ]
  },
  {
   "cell_type": "code",
   "execution_count": 10,
   "metadata": {
    "scrolled": true
   },
   "outputs": [
    {
     "data": {
      "image/png": "[encoded data removed]",
      "text/plain": [
       "<Figure size 432x288 with 1 Axes>"
      ]
     },
     "metadata": {
      "needs_background": "light"
     },
     "output_type": "display_data"
    },
    {
     "data": {
      "image/png": "[encoded data removed]",
      "text/plain": [
       "<Figure size 432x288 with 1 Axes>"
      ]
     },
     "metadata": {
      "needs_background": "light"
     },
     "output_type": "display_data"
    }
   ],
   "source": [
    "#University rating and Research are revealed to be categorical variables, so bar charts will be plotted of them\n",
    "A = admit_df['University Rating'].value_counts().index\n",
    "B = admit_df['University Rating'].value_counts().values\n",
    "plt.bar(A, B)\n",
    "plt.title('University Rating')\n",
    "plt.show()\n",
    "\n",
    "A = admit_df['Research'].value_counts().index\n",
    "B = admit_df['Research'].value_counts().values\n",
    "plt.bar(A, B)\n",
    "plt.title('Research Experience')\n",
    "plt.xticks(np.arange(min(A), max(A) + 1, 1))\n",
    "plt.show()"
   ]
  },
  {
   "cell_type": "code",
   "execution_count": 11,
   "metadata": {
    "scrolled": false
   },
   "outputs": [
    {
     "data": {
      "image/png": "[encoded data removed]",
      "text/plain": [
       "<Figure size 432x288 with 2 Axes>"
      ]
     },
     "metadata": {
      "needs_background": "light"
     },
     "output_type": "display_data"
    }
   ],
   "source": [
    "#Checking the correlations in the data frame\n",
    "sns.heatmap(admit_df.corr(), cmap = 'Blues', linewidths = 1)\n",
    "plt.show()"
   ]
  },
  {
   "cell_type": "code",
   "execution_count": 12,
   "metadata": {},
   "outputs": [],
   "source": [
    "#Splitting the target column from the rest of the data frame\n",
    "x = admit_df.iloc[:, 1:8]\n",
    "y = admit_df['Chance of Admit ']"
   ]
  },
  {
   "cell_type": "code",
   "execution_count": 13,
   "metadata": {},
   "outputs": [],
   "source": [
    "#Splitting into the training and testing sets\n",
    "X_train, X_test, y_train, y_test = train_test_split(x, y, test_size = 0.2, random_state = 42)"
   ]
  },
  {
   "cell_type": "code",
   "execution_count": 14,
   "metadata": {},
   "outputs": [],
   "source": [
    "#Scaling the features \n",
    "scaler = MinMaxScaler()\n",
    "X_train_scaled = scaler.fit_transform(X_train)\n",
    "X_test_scaled = scaler.transform(X_test)"
   ]
  },
  {
   "cell_type": "code",
   "execution_count": 15,
   "metadata": {},
   "outputs": [],
   "source": [
    "#Defining the neural network model with 3 layers \n",
    "#The first 2 have 7 neurons and ReLU activation and the last 1 has a neuron with linear activation.\n",
    "model = Sequential()\n",
    "model.add(Dense(7, activation = 'relu', input_dim = 7))\n",
    "model.add(Dense(7, activation = 'relu'))\n",
    "model.add(Dense(1, activation = 'linear'))"
   ]
  },
  {
   "cell_type": "code",
   "execution_count": 16,
   "metadata": {},
   "outputs": [
    {
     "name": "stdout",
     "output_type": "stream",
     "text": [
      "Model: \"sequential\"\n",
      "_________________________________________________________________\n",
      "Layer (type)                 Output Shape              Param #   \n",
      "=================================================================\n",
      "dense (Dense)                (None, 7)                 56        \n",
      "_________________________________________________________________\n",
      "dense_1 (Dense)              (None, 7)                 56        \n",
      "_________________________________________________________________\n",
      "dense_2 (Dense)              (None, 1)                 8         \n",
      "=================================================================\n",
      "Total params: 120\n",
      "Trainable params: 120\n",
      "Non-trainable params: 0\n",
      "_________________________________________________________________\n"
     ]
    }
   ],
   "source": [
    "#Summarizing the model\n",
    "model.summary()"
   ]
  },
  {
   "cell_type": "code",
   "execution_count": 17,
   "metadata": {},
   "outputs": [
    {
     "name": "stdout",
     "output_type": "stream",
     "text": [
      "Epoch 1/100\n",
      "8/8 [==============================] - 2s 217ms/step - loss: 0.0895 - val_loss: 0.0531\n",
      "Epoch 2/100\n",
      "8/8 [==============================] - 0s 17ms/step - loss: 0.0442 - val_loss: 0.0324\n",
      "Epoch 3/100\n",
      "8/8 [==============================] - 0s 17ms/step - loss: 0.0336 - val_loss: 0.0295\n",
      "Epoch 4/100\n",
      "8/8 [==============================] - 0s 17ms/step - loss: 0.0296 - val_loss: 0.0271\n",
      "Epoch 5/100\n",
      "8/8 [==============================] - 0s 17ms/step - loss: 0.0256 - val_loss: 0.0242\n",
      "Epoch 6/100\n",
      "8/8 [==============================] - 0s 21ms/step - loss: 0.0253 - val_loss: 0.0221\n",
      "Epoch 7/100\n",
      "8/8 [==============================] - 0s 24ms/step - loss: 0.0212 - val_loss: 0.0208\n",
      "Epoch 8/100\n",
      "8/8 [==============================] - 0s 24ms/step - loss: 0.0206 - val_loss: 0.0197\n",
      "Epoch 9/100\n",
      "8/8 [==============================] - 0s 22ms/step - loss: 0.0218 - val_loss: 0.0186\n",
      "Epoch 10/100\n",
      "8/8 [==============================] - 0s 23ms/step - loss: 0.0171 - val_loss: 0.0177\n",
      "Epoch 11/100\n",
      "8/8 [==============================] - 0s 25ms/step - loss: 0.0174 - val_loss: 0.0168\n",
      "Epoch 12/100\n",
      "8/8 [==============================] - 0s 25ms/step - loss: 0.0175 - val_loss: 0.0160\n",
      "Epoch 13/100\n",
      "8/8 [==============================] - 0s 24ms/step - loss: 0.0177 - val_loss: 0.0153\n",
      "Epoch 14/100\n",
      "8/8 [==============================] - 0s 25ms/step - loss: 0.0150 - val_loss: 0.0146\n",
      "Epoch 15/100\n",
      "8/8 [==============================] - 0s 23ms/step - loss: 0.0154 - val_loss: 0.0139\n",
      "Epoch 16/100\n",
      "8/8 [==============================] - 0s 23ms/step - loss: 0.0160 - val_loss: 0.0133\n",
      "Epoch 17/100\n",
      "8/8 [==============================] - 0s 24ms/step - loss: 0.0147 - val_loss: 0.0129\n",
      "Epoch 18/100\n",
      "8/8 [==============================] - 0s 25ms/step - loss: 0.0126 - val_loss: 0.0122\n",
      "Epoch 19/100\n",
      "8/8 [==============================] - 0s 26ms/step - loss: 0.0122 - val_loss: 0.0118\n",
      "Epoch 20/100\n",
      "8/8 [==============================] - 0s 23ms/step - loss: 0.0126 - val_loss: 0.0114\n",
      "Epoch 21/100\n",
      "8/8 [==============================] - 0s 22ms/step - loss: 0.0114 - val_loss: 0.0108\n",
      "Epoch 22/100\n",
      "8/8 [==============================] - 0s 24ms/step - loss: 0.0102 - val_loss: 0.0105\n",
      "Epoch 23/100\n",
      "8/8 [==============================] - 0s 23ms/step - loss: 0.0103 - val_loss: 0.0100\n",
      "Epoch 24/100\n",
      "8/8 [==============================] - 0s 24ms/step - loss: 0.0100 - val_loss: 0.0096\n",
      "Epoch 25/100\n",
      "8/8 [==============================] - 0s 24ms/step - loss: 0.0098 - val_loss: 0.0093\n",
      "Epoch 26/100\n",
      "8/8 [==============================] - 0s 24ms/step - loss: 0.0094 - val_loss: 0.0089\n",
      "Epoch 27/100\n",
      "8/8 [==============================] - 0s 24ms/step - loss: 0.0092 - val_loss: 0.0085\n",
      "Epoch 28/100\n",
      "8/8 [==============================] - 0s 24ms/step - loss: 0.0082 - val_loss: 0.0083\n",
      "Epoch 29/100\n",
      "8/8 [==============================] - 0s 23ms/step - loss: 0.0082 - val_loss: 0.0080\n",
      "Epoch 30/100\n",
      "8/8 [==============================] - 0s 25ms/step - loss: 0.0079 - val_loss: 0.0077\n",
      "Epoch 31/100\n",
      "8/8 [==============================] - 0s 23ms/step - loss: 0.0076 - val_loss: 0.0075\n",
      "Epoch 32/100\n",
      "8/8 [==============================] - 0s 25ms/step - loss: 0.0079 - val_loss: 0.0074\n",
      "Epoch 33/100\n",
      "8/8 [==============================] - 0s 24ms/step - loss: 0.0067 - val_loss: 0.0072\n",
      "Epoch 34/100\n",
      "8/8 [==============================] - 0s 24ms/step - loss: 0.0075 - val_loss: 0.0070\n",
      "Epoch 35/100\n",
      "8/8 [==============================] - 0s 23ms/step - loss: 0.0062 - val_loss: 0.0068\n",
      "Epoch 36/100\n",
      "8/8 [==============================] - 0s 25ms/step - loss: 0.0075 - val_loss: 0.0068\n",
      "Epoch 37/100\n",
      "8/8 [==============================] - 0s 23ms/step - loss: 0.0067 - val_loss: 0.0066\n",
      "Epoch 38/100\n",
      "8/8 [==============================] - 0s 23ms/step - loss: 0.0060 - val_loss: 0.0065\n",
      "Epoch 39/100\n",
      "8/8 [==============================] - 0s 24ms/step - loss: 0.0064 - val_loss: 0.0064\n",
      "Epoch 40/100\n",
      "8/8 [==============================] - 0s 24ms/step - loss: 0.0065 - val_loss: 0.0063\n",
      "Epoch 41/100\n",
      "8/8 [==============================] - 0s 25ms/step - loss: 0.0064 - val_loss: 0.0062\n",
      "Epoch 42/100\n",
      "8/8 [==============================] - 0s 22ms/step - loss: 0.0062 - val_loss: 0.0061\n",
      "Epoch 43/100\n",
      "8/8 [==============================] - 0s 23ms/step - loss: 0.0062 - val_loss: 0.0060\n",
      "Epoch 44/100\n",
      "8/8 [==============================] - 0s 22ms/step - loss: 0.0062 - val_loss: 0.0060\n",
      "Epoch 45/100\n",
      "8/8 [==============================] - 0s 25ms/step - loss: 0.0055 - val_loss: 0.0060\n",
      "Epoch 46/100\n",
      "8/8 [==============================] - 0s 23ms/step - loss: 0.0056 - val_loss: 0.0057\n",
      "Epoch 47/100\n",
      "8/8 [==============================] - 0s 23ms/step - loss: 0.0061 - val_loss: 0.0058\n",
      "Epoch 48/100\n",
      "8/8 [==============================] - 0s 25ms/step - loss: 0.0060 - val_loss: 0.0057\n",
      "Epoch 49/100\n",
      "8/8 [==============================] - 0s 24ms/step - loss: 0.0059 - val_loss: 0.0055\n",
      "Epoch 50/100\n",
      "8/8 [==============================] - 0s 24ms/step - loss: 0.0055 - val_loss: 0.0055\n",
      "Epoch 51/100\n",
      "8/8 [==============================] - 0s 25ms/step - loss: 0.0057 - val_loss: 0.0055\n",
      "Epoch 52/100\n",
      "8/8 [==============================] - 0s 22ms/step - loss: 0.0066 - val_loss: 0.0054\n",
      "Epoch 53/100\n",
      "8/8 [==============================] - 0s 22ms/step - loss: 0.0047 - val_loss: 0.0052\n",
      "Epoch 54/100\n",
      "8/8 [==============================] - 0s 21ms/step - loss: 0.0051 - val_loss: 0.0052\n",
      "Epoch 55/100\n",
      "8/8 [==============================] - 0s 22ms/step - loss: 0.0060 - val_loss: 0.0054\n",
      "Epoch 56/100\n",
      "8/8 [==============================] - 0s 21ms/step - loss: 0.0053 - val_loss: 0.0052\n",
      "Epoch 57/100\n",
      "8/8 [==============================] - 0s 22ms/step - loss: 0.0051 - val_loss: 0.0052\n",
      "Epoch 58/100\n",
      "8/8 [==============================] - 0s 24ms/step - loss: 0.0049 - val_loss: 0.0051\n",
      "Epoch 59/100\n",
      "8/8 [==============================] - 0s 23ms/step - loss: 0.0053 - val_loss: 0.0049\n",
      "Epoch 60/100\n",
      "8/8 [==============================] - 0s 23ms/step - loss: 0.0053 - val_loss: 0.0051\n",
      "Epoch 61/100\n",
      "8/8 [==============================] - 0s 23ms/step - loss: 0.0053 - val_loss: 0.0050\n",
      "Epoch 62/100\n",
      "8/8 [==============================] - 0s 22ms/step - loss: 0.0049 - val_loss: 0.0049\n",
      "Epoch 63/100\n",
      "8/8 [==============================] - 0s 22ms/step - loss: 0.0050 - val_loss: 0.0048\n",
      "Epoch 64/100\n",
      "8/8 [==============================] - 0s 23ms/step - loss: 0.0054 - val_loss: 0.0049\n",
      "Epoch 65/100\n",
      "8/8 [==============================] - 0s 22ms/step - loss: 0.0061 - val_loss: 0.0049\n",
      "Epoch 66/100\n",
      "8/8 [==============================] - 0s 25ms/step - loss: 0.0051 - val_loss: 0.0047\n",
      "Epoch 67/100\n",
      "8/8 [==============================] - 0s 23ms/step - loss: 0.0045 - val_loss: 0.0047\n",
      "Epoch 68/100\n",
      "8/8 [==============================] - 0s 23ms/step - loss: 0.0050 - val_loss: 0.0048\n",
      "Epoch 69/100\n",
      "8/8 [==============================] - 0s 23ms/step - loss: 0.0059 - val_loss: 0.0047\n",
      "Epoch 70/100\n",
      "8/8 [==============================] - 0s 21ms/step - loss: 0.0045 - val_loss: 0.0046\n",
      "Epoch 71/100\n",
      "8/8 [==============================] - 0s 22ms/step - loss: 0.0053 - val_loss: 0.0046\n",
      "Epoch 72/100\n",
      "8/8 [==============================] - 0s 23ms/step - loss: 0.0053 - val_loss: 0.0046\n",
      "Epoch 73/100\n",
      "8/8 [==============================] - 0s 23ms/step - loss: 0.0054 - val_loss: 0.0046\n",
      "Epoch 74/100\n",
      "8/8 [==============================] - 0s 23ms/step - loss: 0.0049 - val_loss: 0.0045\n",
      "Epoch 75/100\n",
      "8/8 [==============================] - 0s 22ms/step - loss: 0.0050 - val_loss: 0.0045\n",
      "Epoch 76/100\n",
      "8/8 [==============================] - 0s 23ms/step - loss: 0.0047 - val_loss: 0.0044\n",
      "Epoch 77/100\n",
      "8/8 [==============================] - 0s 23ms/step - loss: 0.0043 - val_loss: 0.0045\n",
      "Epoch 78/100\n",
      "8/8 [==============================] - 0s 23ms/step - loss: 0.0050 - val_loss: 0.0044\n",
      "Epoch 79/100\n",
      "8/8 [==============================] - 0s 23ms/step - loss: 0.0052 - val_loss: 0.0044\n",
      "Epoch 80/100\n",
      "8/8 [==============================] - 0s 22ms/step - loss: 0.0053 - val_loss: 0.0044\n",
      "Epoch 81/100\n",
      "8/8 [==============================] - 0s 22ms/step - loss: 0.0047 - val_loss: 0.0043\n",
      "Epoch 82/100\n",
      "8/8 [==============================] - 0s 22ms/step - loss: 0.0055 - val_loss: 0.0043\n",
      "Epoch 83/100\n",
      "8/8 [==============================] - 0s 23ms/step - loss: 0.0051 - val_loss: 0.0043\n"
     ]
    },
    {
     "name": "stdout",
     "output_type": "stream",
     "text": [
      "Epoch 84/100\n",
      "8/8 [==============================] - 0s 22ms/step - loss: 0.0052 - val_loss: 0.0043\n",
      "Epoch 85/100\n",
      "8/8 [==============================] - 0s 21ms/step - loss: 0.0047 - val_loss: 0.0042\n",
      "Epoch 86/100\n",
      "8/8 [==============================] - 0s 22ms/step - loss: 0.0043 - val_loss: 0.0042\n",
      "Epoch 87/100\n",
      "8/8 [==============================] - 0s 23ms/step - loss: 0.0050 - val_loss: 0.0043\n",
      "Epoch 88/100\n",
      "8/8 [==============================] - 0s 23ms/step - loss: 0.0043 - val_loss: 0.0041\n",
      "Epoch 89/100\n",
      "8/8 [==============================] - 0s 23ms/step - loss: 0.0044 - val_loss: 0.0042\n",
      "Epoch 90/100\n",
      "8/8 [==============================] - 0s 22ms/step - loss: 0.0046 - val_loss: 0.0042\n",
      "Epoch 91/100\n",
      "8/8 [==============================] - 0s 22ms/step - loss: 0.0046 - val_loss: 0.0042\n",
      "Epoch 92/100\n",
      "8/8 [==============================] - 0s 22ms/step - loss: 0.0051 - val_loss: 0.0042\n",
      "Epoch 93/100\n",
      "8/8 [==============================] - 0s 22ms/step - loss: 0.0051 - val_loss: 0.0041\n",
      "Epoch 94/100\n",
      "8/8 [==============================] - 0s 23ms/step - loss: 0.0051 - val_loss: 0.0040\n",
      "Epoch 95/100\n",
      "8/8 [==============================] - 0s 22ms/step - loss: 0.0048 - val_loss: 0.0041\n",
      "Epoch 96/100\n",
      "8/8 [==============================] - 0s 24ms/step - loss: 0.0042 - val_loss: 0.0041\n",
      "Epoch 97/100\n",
      "8/8 [==============================] - 0s 22ms/step - loss: 0.0044 - val_loss: 0.0039\n",
      "Epoch 98/100\n",
      "8/8 [==============================] - 0s 22ms/step - loss: 0.0046 - val_loss: 0.0041\n",
      "Epoch 99/100\n",
      "8/8 [==============================] - 0s 23ms/step - loss: 0.0042 - val_loss: 0.0039\n",
      "Epoch 100/100\n",
      "8/8 [==============================] - 0s 22ms/step - loss: 0.0038 - val_loss: 0.0040\n"
     ]
    }
   ],
   "source": [
    "#Training the model with 100 epochs and mean squared error as the scoring metric\n",
    "model.compile(loss = 'mean_squared_error', optimizer = 'Adam')\n",
    "history = model.fit(X_train_scaled, y_train, epochs = 100, validation_split = 0.2)"
   ]
  },
  {
   "cell_type": "code",
   "execution_count": 18,
   "metadata": {},
   "outputs": [
    {
     "name": "stdout",
     "output_type": "stream",
     "text": [
      "R-squared of the model: 0.8103\n"
     ]
    }
   ],
   "source": [
    "#Getting the ending loss and R2 value of the model and rounding (since R2 is also used to evaluate regression problems)\n",
    "y_pred = model.predict(X_test_scaled)\n",
    "R_2 = round(r2_score(y_test,y_pred), 4)\n",
    "print('R-squared of the model: {}'.format(R_2))"
   ]
  },
  {
   "cell_type": "code",
   "execution_count": 19,
   "metadata": {},
   "outputs": [
    {
     "data": {
      "image/png": "[encoded data removed]",
      "text/plain": [
       "<Figure size 432x288 with 1 Axes>"
      ]
     },
     "metadata": {
      "needs_background": "light"
     },
     "output_type": "display_data"
    }
   ],
   "source": [
    "#Plotting the error per epoch to see if the model is performing well\n",
    "plt.plot(history.history['loss'], label = 'training')\n",
    "plt.plot(history.history['val_loss'], label = 'validation')\n",
    "plt.legend(loc = 'upper right', shadow = True, fontsize = 'x-large')\n",
    "plt.xlabel('Number of epochs')\n",
    "plt.ylabel('Mean squared error')\n",
    "plt.title('Mean squared error per epoch')\n",
    "plt.show()"
   ]
  }
 ],
 "metadata": {
  "kernelspec": {
   "display_name": "Python 3",
   "language": "python",
   "name": "python3"
  },
  "language_info": {
   "codemirror_mode": {
    "name": "ipython",
    "version": 3
   },
   "file_extension": ".py",
   "mimetype": "text/x-python",
   "name": "python",
   "nbconvert_exporter": "python",
   "pygments_lexer": "ipython3",
   "version": "3.8.3"
  }
 },
 "nbformat": 4,
 "nbformat_minor": 4
}
