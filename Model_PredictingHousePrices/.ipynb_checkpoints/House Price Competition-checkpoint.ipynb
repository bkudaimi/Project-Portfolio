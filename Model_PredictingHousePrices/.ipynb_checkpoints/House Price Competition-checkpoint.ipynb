{
 "cells": [
  {
   "cell_type": "code",
   "execution_count": null,
   "id": "496fcb70",
   "metadata": {},
   "outputs": [],
   "source": [
    "'''\n",
    "Entry for the House Price - Advanced Regression Techniques Competition\n",
    "This machine learning algorithm will be trained on the Ames housing dataset to predict house prices.\n",
    "Bilal Kudaimi\n",
    "February 26, 2023\n",
    "'''"
   ]
  }
 ],
 "metadata": {
  "kernelspec": {
   "display_name": "Python 3 (ipykernel)",
   "language": "python",
   "name": "python3"
  },
  "language_info": {
   "codemirror_mode": {
    "name": "ipython",
    "version": 3
   },
   "file_extension": ".py",
   "mimetype": "text/x-python",
   "name": "python",
   "nbconvert_exporter": "python",
   "pygments_lexer": "ipython3",
   "version": "3.9.12"
  }
 },
 "nbformat": 4,
 "nbformat_minor": 5
}
